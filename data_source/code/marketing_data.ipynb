{
 "cells": [
  {
   "cell_type": "code",
   "execution_count": 1,
   "metadata": {},
   "outputs": [],
   "source": [
    "import pandas as pd\n",
    "import function_module as fm"
   ]
  },
  {
   "cell_type": "code",
   "execution_count": 4,
   "metadata": {},
   "outputs": [],
   "source": [
    "df = pd.read_csv(\"./data/ElectronicsProductsPricingData.csv\")"
   ]
  },
  {
   "cell_type": "code",
   "execution_count": 5,
   "metadata": {},
   "outputs": [
    {
     "data": {
      "text/plain": [
       "Index(['id', 'prices.amountMax', 'prices.amountMin', 'prices.availability',\n",
       "       'prices.condition', 'prices.currency', 'prices.dateSeen',\n",
       "       'prices.isSale', 'prices.merchant', 'prices.shipping',\n",
       "       'prices.sourceURLs', 'asins', 'brand', 'categories', 'dateAdded',\n",
       "       'dateUpdated', 'ean', 'imageURLs', 'keys', 'manufacturer',\n",
       "       'manufacturerNumber', 'name', 'primaryCategories', 'sourceURLs', 'upc',\n",
       "       'weight', 'Unnamed: 26', 'Unnamed: 27', 'Unnamed: 28', 'Unnamed: 29',\n",
       "       'Unnamed: 30'],\n",
       "      dtype='object')"
      ]
     },
     "execution_count": 5,
     "metadata": {},
     "output_type": "execute_result"
    }
   ],
   "source": [
    "df.columns"
   ]
  },
  {
   "cell_type": "code",
   "execution_count": 6,
   "metadata": {},
   "outputs": [
    {
     "name": "stdout",
     "output_type": "stream",
     "text": [
      "REMOVING MISSING VALUE UNDER THRESHOLD\n",
      "id: 0.0\n",
      "prices.amountMax: 0.0\n",
      "prices.amountMin: 0.0\n",
      "prices.availability: 0.0\n",
      "prices.condition: 0.0\n",
      "prices.currency: 0.0\n",
      "prices.dateSeen: 0.0\n",
      "prices.isSale: 0.0\n",
      "prices.merchant: 0.0\n",
      "prices.shipping: 40.998758449441304\n",
      "prices.sourceURLs: 0.0\n",
      "asins: 0.0\n",
      "brand: 0.0\n",
      "categories: 0.0\n",
      "dateAdded: 0.0\n",
      "dateUpdated: 0.0\n",
      "ean: 78.71430542143743\n",
      "imageURLs: 0.0\n",
      "keys: 0.0\n",
      "manufacturer: 55.373154917919706\n",
      "manufacturerNumber: 0.0\n",
      "name: 0.0\n",
      "primaryCategories: 0.0\n",
      "sourceURLs: 0.0\n",
      "upc: 0.0\n",
      "weight: 0.0\n",
      "Unnamed: 26: 99.46199475789764\n",
      "Unnamed: 27: 99.75168988826046\n",
      "Unnamed: 28: 99.91722996275348\n",
      "Unnamed: 29: 99.83445992550696\n",
      "Unnamed: 30: 99.91722996275348\n",
      "Removed columns = ['ean', 'manufacturer', 'Unnamed: 26', 'Unnamed: 27', 'Unnamed: 28', 'Unnamed: 29', 'Unnamed: 30']\n"
     ]
    }
   ],
   "source": [
    "#Check columns with missing values and remove if under threshold\n",
    "df = fm.remove_missing_value_col(df, 50)"
   ]
  },
  {
   "cell_type": "code",
   "execution_count": 7,
   "metadata": {},
   "outputs": [
    {
     "name": "stdout",
     "output_type": "stream",
     "text": [
      "COLUMN NAME AND ITS PERCENTAGE OF MISSING VALUE\n",
      "id: 0.0\n",
      "prices.amountMax: 0.0\n",
      "prices.amountMin: 0.0\n",
      "prices.availability: 0.0\n",
      "prices.condition: 0.0\n",
      "prices.currency: 0.0\n",
      "prices.dateSeen: 0.0\n",
      "prices.isSale: 0.0\n",
      "prices.merchant: 0.0\n",
      "prices.shipping: 0.0\n",
      "prices.sourceURLs: 0.0\n",
      "asins: 0.0\n",
      "brand: 0.0\n",
      "categories: 0.0\n",
      "dateAdded: 0.0\n",
      "dateUpdated: 0.0\n",
      "imageURLs: 0.0\n",
      "keys: 0.0\n",
      "manufacturerNumber: 0.0\n",
      "name: 0.0\n",
      "primaryCategories: 0.0\n",
      "sourceURLs: 0.0\n",
      "upc: 0.0\n",
      "weight: 0.0\n"
     ]
    }
   ],
   "source": [
    "#Fill missing value\n",
    "df['prices.shipping'] = df['prices.shipping'].fillna('No Information')\n",
    "fm.count_missing_value_col(df)"
   ]
  },
  {
   "cell_type": "code",
   "execution_count": 8,
   "metadata": {},
   "outputs": [
    {
     "name": "stdout",
     "output_type": "stream",
     "text": [
      "DUPLICATE DATA CHECKING\n",
      "Duplicate data: 0 out of 7249\n"
     ]
    }
   ],
   "source": [
    "# Check duplicate data\n",
    "fm.count_duplicate(df)"
   ]
  },
  {
   "cell_type": "code",
   "execution_count": 9,
   "metadata": {},
   "outputs": [
    {
     "name": "stdout",
     "output_type": "stream",
     "text": [
      "Col id have unique val as much 835\n",
      "Col prices.amountMax have unique val as much 2519\n",
      "Col prices.amountMin have unique val as much 2668\n",
      "Col prices.availability have unique val as much 14\n",
      "['Yes', 'In Stock', 'TRUE', 'undefined', 'yes', 'Out Of Stock', 'Special Order', 'No', 'More on the Way', 'sold', 'FALSE', 'Retired', '32 available', '7 available']\n",
      "Col prices.condition have unique val as much 11\n",
      "['New', 'new', 'Seller refurbished', 'Used', 'pre-owned', 'Refurbished', 'Manufacturer refurbished', 'New other (see details)', 'refurbished', 'New Kicker BT2 41IK5BT2V2 Wireless Bluetooth USB Audio System Black + Remote, Power Supply (volts, ampere): 24, 2.9, Square Reflex Subwoofer (in., mm): 6 x 6\", Stereo Amp Power with DSP (watts): 50, App for customizing - KickStart, Remote Control Included, Height x Width x Depth (in, mm): 8.87\" x 19\" x 9.14\", Frequency Response (Hz): 24-20k, +-3dB, Woofer (in., cm): 5\", 1 Year Manufacturer Warranty, Item Weight: 13.85 lbs., USB Port, Compatible with: Bluetooth-enabled devices, Aux-in, Speaker Design: 2-Way Full-Range, Bluetooth wireless streaming, Condition: Brand New!, Tweeter (in., cm): 3/4\"', '5/16\" Ring Terminal, 3 ft. 8 GA Black Ground Cable, 6 ft. Split Loom Tubing, Depth: 6.5\" (165mm) (top) 11.2\" (285mm) (bottom), Item Weight: 18.5 lbs., Frequency Response 25Hz - 500Hz, Line Output, Max Power: 1100 Watt x 1 Channel @ 2 Ohm, 30 ft. Speaker Wire, Boss Illuminated Logo, Height: 12.8\" (325mm), (3) Rubber Grommets, Item Weight: 2 lbs., Size 10\", 20 ft. 8 GA Red Power Cable, Ported enclosure for greater output and deeper bass, 2 Ohm Stable, Class A/B, Voice Coil Size 2\", Black rubber surround, Nominal Impedance 4 ohm, Rugged fiberboard construction with thick carpet covering, Warranty: 1 Year Manufacturer Warranty, MOSFET Power, Weight: 6 lbs, Width: 17.7\" (450mm), Condition: Brand New!, Low Pass Crossover, List item, RMS Power: 250 Watt x 1 Channel @ 4 Ohm, Remote Bass Control Included!, 1/4\" Ring Terminal, 16 ft. 18 GA Blue Turn-On Wire, Peak Power: 500 Watts, Competition High Quality Fuse Holder, Condition: BRAND NEW!, Product Condition: Brand New, RMS Power: 175 Watts, Aluminum woofer cone, THD: 0.01%, 1 Year Manufacturer Warranty, Dimensions: 10-7/16\" (W) x 2-1/4\" (H) x 9-1/8\" (L), #10 Ring Terminal, 20 ft. High Performance Black RCA, SPL (db @ 1w/1m) 88dB, New Dual SBX101 10\" 500 Watts Car Audio Subwoofer Sub + Ported Sub Enclosure, (20) 4\" Wire Ties']\n",
      "Col prices.currency have unique val as much 2\n",
      "['USD', 'CAD']\n",
      "Col prices.dateSeen have unique val as much 3834\n",
      "Col prices.isSale have unique val as much 2\n",
      "[False, True]\n",
      "Col prices.merchant have unique val as much 693\n",
      "Col prices.shipping have unique val as much 75\n",
      "Col prices.sourceURLs have unique val as much 4323\n",
      "Col asins have unique val as much 835\n",
      "Col brand have unique val as much 257\n",
      "Col categories have unique val as much 803\n",
      "Col dateAdded have unique val as much 799\n",
      "Col dateUpdated have unique val as much 737\n",
      "Col imageURLs have unique val as much 835\n",
      "Col keys have unique val as much 835\n",
      "Col manufacturerNumber have unique val as much 835\n",
      "Col name have unique val as much 828\n",
      "Col primaryCategories have unique val as much 5\n",
      "['Electronics', ' Siri Eyes Free', 'Electronics,Furniture', ' Intel Celeron', ' Apple CarPlay']\n",
      "Col sourceURLs have unique val as much 835\n",
      "Col upc have unique val as much 392\n",
      "Col weight have unique val as much 587\n"
     ]
    }
   ],
   "source": [
    "#Check inconsistent value\n",
    "fm.unique_val(df)"
   ]
  },
  {
   "cell_type": "code",
   "execution_count": 10,
   "metadata": {},
   "outputs": [],
   "source": [
    "dict_avail = {'Yes' : 'In Stock', \n",
    "              'In Stock' : 'In Stock', \n",
    "              'TRUE' : 'In Stock', \n",
    "              'undefined' : 'No Information', \n",
    "              'yes' : 'In Stock', \n",
    "              'Out Of Stock' : 'Out Of Stock', \n",
    "              'Special Order' : 'In Stock', \n",
    "              'No' : 'Out Of Stock', \n",
    "              'More on the Way' : 'In Stock', \n",
    "              'sold' : 'Out Of Stock', \n",
    "              'FALSE' : 'Out Of Stock', \n",
    "              'Retired' : 'Out Of Stock', \n",
    "              '32 available' : 'In Stock', \n",
    "              '7 available' : 'In Stock'\n",
    "              }\n",
    "\n",
    "dict_condition = {'New' : 'New', \n",
    "                'new' : 'New', \n",
    "                'Seller refurbished' : 'Refurbished', \n",
    "                'Used' : 'Used', \n",
    "                'pre-owned' : 'Used', \n",
    "                'Refurbished' : 'Refurbished', \n",
    "                'Manufacturer refurbished': 'Refurbished', \n",
    "                'New other (see details)': 'New', \n",
    "                }"
   ]
  },
  {
   "cell_type": "code",
   "execution_count": 11,
   "metadata": {},
   "outputs": [],
   "source": [
    "# Replace values based on the dictionary\n",
    "df['prices.availability'] = df['prices.availability'].replace(dict_avail)\n",
    "df['prices.condition'] = df['prices.condition'].replace(dict_condition)\n",
    "\n",
    "# Fill missing values in column 'A' with 'No Information'\n",
    "df['prices.condition'] = df['prices.condition'].fillna('No Information')"
   ]
  },
  {
   "cell_type": "code",
   "execution_count": 12,
   "metadata": {},
   "outputs": [],
   "source": [
    "#Convert price to float\n",
    "df['prices.amountMin'] = df['prices.amountMin'].astype('float')\n",
    "df['prices.amountMax'] = df['prices.amountMax'].astype('float')"
   ]
  },
  {
   "cell_type": "code",
   "execution_count": 13,
   "metadata": {},
   "outputs": [],
   "source": [
    "#Create Weight Unit\n",
    "df['weight_unit'] = ''\n",
    "if df['weight'].str.contains('pounds').any():\n",
    "    df['weight_unit'] = 'pounds'\n",
    "else:\n",
    "    df['weight_unit'] = 'other'"
   ]
  },
  {
   "cell_type": "code",
   "execution_count": 14,
   "metadata": {},
   "outputs": [],
   "source": [
    "#Convert Weight to Float\n",
    "if len(df['weight_unit'].unique()) == 1:\n",
    "    df['weight'] = df['weight'].str.replace('pounds', '')\n",
    "    df['prices.amountMax'] = df['prices.amountMax'].astype('float')"
   ]
  },
  {
   "cell_type": "code",
   "execution_count": 15,
   "metadata": {},
   "outputs": [],
   "source": [
    "#Convert Date Column\n",
    "df['dateAdded'] = pd.to_datetime(df['dateAdded'])\n",
    "df['dateUpdated'] = pd.to_datetime(df['dateUpdated'])"
   ]
  },
  {
   "cell_type": "code",
   "execution_count": 16,
   "metadata": {},
   "outputs": [
    {
     "data": {
      "text/plain": [
       "id                                  object\n",
       "prices.amountMax                   float64\n",
       "prices.amountMin                   float64\n",
       "prices.availability                 object\n",
       "prices.condition                    object\n",
       "prices.currency                     object\n",
       "prices.dateSeen                     object\n",
       "prices.isSale                         bool\n",
       "prices.merchant                     object\n",
       "prices.shipping                     object\n",
       "prices.sourceURLs                   object\n",
       "asins                               object\n",
       "brand                               object\n",
       "categories                          object\n",
       "dateAdded              datetime64[ns, UTC]\n",
       "dateUpdated            datetime64[ns, UTC]\n",
       "imageURLs                           object\n",
       "keys                                object\n",
       "manufacturerNumber                  object\n",
       "name                                object\n",
       "primaryCategories                   object\n",
       "sourceURLs                          object\n",
       "upc                                 object\n",
       "weight                              object\n",
       "weight_unit                         object\n",
       "dtype: object"
      ]
     },
     "execution_count": 16,
     "metadata": {},
     "output_type": "execute_result"
    }
   ],
   "source": [
    "df.dtypes"
   ]
  }
 ],
 "metadata": {
  "kernelspec": {
   "display_name": "Python 3",
   "language": "python",
   "name": "python3"
  },
  "language_info": {
   "codemirror_mode": {
    "name": "ipython",
    "version": 3
   },
   "file_extension": ".py",
   "mimetype": "text/x-python",
   "name": "python",
   "nbconvert_exporter": "python",
   "pygments_lexer": "ipython3",
   "version": "3.8.0"
  }
 },
 "nbformat": 4,
 "nbformat_minor": 2
}
